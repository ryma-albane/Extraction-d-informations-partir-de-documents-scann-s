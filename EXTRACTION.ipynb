{
  "cells": [
    {
      "cell_type": "code",
      "execution_count": null,
      "id": "abb65c58",
      "metadata": {
        "id": "abb65c58",
        "outputId": "b279195c-cd49-44e0-f255-a46f0f9c7866",
        "colab": {
          "base_uri": "https://localhost:8080/",
          "height": 384
        }
      },
      "outputs": [
        {
          "output_type": "error",
          "ename": "ModuleNotFoundError",
          "evalue": "No module named 'pytesseract'",
          "traceback": [
            "\u001b[0;31m---------------------------------------------------------------------------\u001b[0m",
            "\u001b[0;31mModuleNotFoundError\u001b[0m                       Traceback (most recent call last)",
            "\u001b[0;32m<ipython-input-1-8403720896fd>\u001b[0m in \u001b[0;36m<cell line: 0>\u001b[0;34m()\u001b[0m\n\u001b[1;32m      2\u001b[0m \u001b[0;32mimport\u001b[0m \u001b[0mtkinter\u001b[0m \u001b[0;32mas\u001b[0m \u001b[0mtk\u001b[0m\u001b[0;34m\u001b[0m\u001b[0;34m\u001b[0m\u001b[0m\n\u001b[1;32m      3\u001b[0m \u001b[0;32mimport\u001b[0m \u001b[0mcv2\u001b[0m\u001b[0;34m\u001b[0m\u001b[0;34m\u001b[0m\u001b[0m\n\u001b[0;32m----> 4\u001b[0;31m \u001b[0;32mimport\u001b[0m \u001b[0mpytesseract\u001b[0m\u001b[0;34m\u001b[0m\u001b[0;34m\u001b[0m\u001b[0m\n\u001b[0m\u001b[1;32m      5\u001b[0m \u001b[0;32mimport\u001b[0m \u001b[0mre\u001b[0m\u001b[0;34m\u001b[0m\u001b[0;34m\u001b[0m\u001b[0m\n\u001b[1;32m      6\u001b[0m \u001b[0;32mimport\u001b[0m \u001b[0mmysql\u001b[0m\u001b[0;34m.\u001b[0m\u001b[0mconnector\u001b[0m\u001b[0;34m\u001b[0m\u001b[0;34m\u001b[0m\u001b[0m\n",
            "\u001b[0;31mModuleNotFoundError\u001b[0m: No module named 'pytesseract'",
            "",
            "\u001b[0;31m---------------------------------------------------------------------------\u001b[0;32m\nNOTE: If your import is failing due to a missing package, you can\nmanually install dependencies using either !pip or !apt.\n\nTo view examples of installing some common dependencies, click the\n\"Open Examples\" button below.\n\u001b[0;31m---------------------------------------------------------------------------\u001b[0m\n"
          ],
          "errorDetails": {
            "actions": [
              {
                "action": "open_url",
                "actionText": "Open Examples",
                "url": "/notebooks/snippets/importing_libraries.ipynb"
              }
            ]
          }
        }
      ],
      "source": [
        "#Imports nécessaires\n",
        "import tkinter as tk\n",
        "import cv2\n",
        "import pytesseract\n",
        "import re\n",
        "import mysql.connector\n",
        "import numpy as np\n",
        "from PIL import Image\n",
        "from tkinter import filedialog, messagebox, ttk\n",
        "from pdf2image import convert_from_path\n",
        "import os\n"
      ]
    },
    {
      "cell_type": "code",
      "execution_count": null,
      "id": "7ea989b2",
      "metadata": {
        "id": "7ea989b2"
      },
      "outputs": [],
      "source": [
        "#Fonction OCR : Extraction de texte depuis l'image\n",
        "def choose_file():\n",
        "    Tk().withdraw()  # Cacher la fenêtre principale Tkinter\n",
        "    file_path = filedialog.askopenfilename(\n",
        "        title=\"Choisir une facture\",\n",
        "        filetypes=[(\"Images et PDFs\", \"*.jpg *.jpeg *.png *.pdf\")]\n",
        "    )\n",
        "    return file_path\n"
      ]
    },
    {
      "cell_type": "code",
      "execution_count": null,
      "id": "b50225fc",
      "metadata": {
        "id": "b50225fc"
      },
      "outputs": [],
      "source": [
        "#Prétraitement de l'image pour l'amélioration de l'OCR\n",
        "def preprocess_image(file_path):\n",
        "    filename = os.path.basename(file_path)\n",
        "    name, ext = os.path.splitext(filename)\n",
        "    output_folder = 'preprocessed'\n",
        "    os.makedirs(output_folder, exist_ok=True)\n",
        "\n",
        "    if ext.lower() == '.pdf':\n",
        "        # Convertir la première page du PDF en image\n",
        "        pages = convert_from_path(file_path)\n",
        "        page = pages[0]\n",
        "        image_path = os.path.join(output_folder, f\"{name}_page1.png\")\n",
        "        page.save(image_path, 'PNG')\n",
        "        print(f\"[PDF] Première page convertie : {image_path}\")\n",
        "        img = cv2.imread(image_path)\n",
        "    else:\n",
        "        img = cv2.imread(file_path)\n",
        "\n",
        "    if img is None:\n",
        "        print(\"Erreur : Impossible de lire l'image.\")\n",
        "        return\n",
        "\n",
        "    # Prétraitement\n",
        "    gray = cv2.cvtColor(img, cv2.COLOR_BGR2GRAY)\n",
        "    _, binary = cv2.threshold(gray, 150, 255, cv2.THRESH_BINARY)\n",
        "    denoised = cv2.GaussianBlur(binary, (5, 5), 0)\n",
        "\n",
        "    # Sauvegarde\n",
        "    output_path = os.path.join(output_folder, f\"{name}_preprocessed_cleaned.png\")\n",
        "    cv2.imwrite(output_path, denoised)\n",
        "    print(f\"Image prétraitée et sauvegardée : {output_path}\")\n",
        "\n",
        "    # Affichage\n",
        "    Image.fromarray(denoised).show()\n"
      ]
    },
    {
      "cell_type": "code",
      "execution_count": null,
      "id": "c32cef23",
      "metadata": {
        "id": "c32cef23"
      },
      "outputs": [],
      "source": [
        "#Analyse et nettoyage du texte extrait\n",
        "def extraire_texte_depuis_image(filepath):\n",
        "    image = cv2.imread(filepath)\n",
        "    gray = cv2.cvtColor(image, cv2.COLOR_BGR2GRAY)\n",
        "    binarized = cv2.adaptiveThreshold(gray, 255, cv2.ADAPTIVE_THRESH_MEAN_C, cv2.THRESH_BINARY, 11, 2)\n",
        "    denoised_image = cv2.GaussianBlur(binarized, (5, 5), 0)\n",
        "    preprocessed_image = Image.fromarray(denoised_image)\n",
        "    preprocessed_image.save('facture_preprocessed_cleaned.png')\n",
        "\n",
        "    pytesseract.pytesseract.tesseract_cmd = r\"C:\\Program Files\\Tesseract-OCR\\tesseract.exe\"\n",
        "    image = Image.open('facture_preprocessed_cleaned.png')\n",
        "    text = pytesseract.image_to_string(image)\n",
        "    text = text.replace('Tota1', 'Total').replace('total', 'Total')\n",
        "\n",
        "    return text\n"
      ]
    },
    {
      "cell_type": "code",
      "execution_count": null,
      "id": "bf54d614",
      "metadata": {
        "id": "bf54d614"
      },
      "outputs": [],
      "source": [
        "def detect_champs_individuels(text):\n",
        "    sections = {\"seller\": [], \"client\": [], \"iban\": None, \"tax_ids\": []}\n",
        "    current_section = None\n",
        "\n",
        "    # Séparer les sections avec des marqueurs forts\n",
        "    for line in text.split('\\n'):\n",
        "        line_clean = line.strip().lower()\n",
        "\n",
        "        if \"seller\" in line_clean:\n",
        "            current_section = \"seller\"\n",
        "            continue\n",
        "        elif \"client\" in line_clean:\n",
        "            current_section = \"client\"\n",
        "            continue\n",
        "        elif \"iban\" in line_clean:\n",
        "            # Extraire IBAN directement depuis la ligne\n",
        "            iban_match = re.search(r'IBAN[:\\s]*([A-Z0-9]{15,34})', line, re.IGNORECASE)\n",
        "            if iban_match:\n",
        "                sections[\"iban\"] = iban_match.group(1).strip()\n",
        "\n",
        "        # Collecter les données de la section active\n",
        "        if current_section and line_clean:\n",
        "            sections[current_section].append(line.strip())\n",
        "\n",
        "        # Réinitialiser la section si ligne vide\n",
        "        if not line_clean:\n",
        "            current_section = None\n",
        "\n",
        "    # Extraire les données du Seller et Client\n",
        "    seller_data = \"\\n\".join(sections[\"seller\"])\n",
        "    client_data = \"\\n\".join(sections[\"client\"])\n",
        "\n",
        "    # Détection des Tax IDs avec regex améliorée\n",
        "    tax_ids = re.findall(r'Tax Id[:\\s]*([0-9\\-]{8,12})', text, re.IGNORECASE)\n",
        "    seller_tax_id = tax_ids[0] if len(tax_ids) >= 1 else \"\"\n",
        "    client_tax_id = tax_ids[1] if len(tax_ids) >= 2 else \"\"\n",
        "\n",
        "    # Séparation nom/adresse (suppose que la première ligne est le nom, les suivantes l'adresse)\n",
        "    seller_name = sections[\"seller\"][0] if len(sections[\"seller\"]) > 0 else \"\"\n",
        "    seller_address = \"\\n\".join(sections[\"seller\"][1:]) if len(sections[\"seller\"]) > 1 else \"\"\n",
        "\n",
        "    client_name = sections[\"client\"][0] if len(sections[\"client\"]) > 0 else \"\"\n",
        "    client_address = \"\\n\".join(sections[\"client\"][1:]) if len(sections[\"client\"]) > 1 else \"\"\n",
        "\n",
        "    return seller_name, seller_address, seller_tax_id, client_name, client_address, client_tax_id, sections[\"iban\"]"
      ]
    },
    {
      "cell_type": "code",
      "execution_count": null,
      "id": "63a5c778",
      "metadata": {
        "id": "63a5c778"
      },
      "outputs": [],
      "source": [
        "#Fonction principale : Analyse complète de la facture\n",
        "def analyse_facture(filepath):\n",
        "    text = extraire_texte_depuis_image(filepath)\n",
        "\n",
        "    invoice_number_match = re.search(r'Invoice no[:\\s]*([\\d]+)', text)\n",
        "    iban_match = re.search(r'IBAN[:\\s]*([A-Z0-9]+)', text)\n",
        "    date_match = re.search(r'\\b(\\d{1,2}[/-]\\d{1,2}[/-]\\d{2,4})\\b', text)\n",
        "    if not date_match:\n",
        "        date_match = re.search(r'Date of issue[:\\s]*([A-Za-z0-9 ,.-]+)', text)\n",
        "    lines = text.split('\\n')\n",
        "    seller_name, seller_address, seller_tax_id, client_name, client_address, client_tax_id, iban = detect_champs_individuels(text)\n",
        "\n",
        "    for i, line in enumerate(lines):\n",
        "        if re.search(r'(Seller|From|Vendor)', line, re.IGNORECASE):\n",
        "            seller_name = lines[i+1].strip() if i+1 < len(lines) else ''\n",
        "            seller_address = lines[i+2].strip() if i+2 < len(lines) else ''\n",
        "            for j in range(i+1, i+5):\n",
        "                if j < len(lines) and re.search(r'(Tax ID|VAT ID)', lines[j], re.IGNORECASE):\n",
        "                    tax_search = re.search(r'(Tax ID|VAT ID)[:\\s]*([A-Za-z0-9-]+)', lines[j])\n",
        "                    if tax_search:\n",
        "                        seller_tax_id = tax_search.group(2).strip()\n",
        "                    break\n",
        "            break\n",
        "\n",
        "    for i, line in enumerate(lines):\n",
        "        if re.search(r'(Client|To|Buyer)', line, re.IGNORECASE):\n",
        "            client_name = lines[i+1].strip() if i+1 < len(lines) else ''\n",
        "            client_address = lines[i+2].strip() if i+2 < len(lines) else ''\n",
        "            for j in range(i+1, i+5):\n",
        "                if j < len(lines) and re.search(r'(Tax ID|VAT ID)', lines[j], re.IGNORECASE):\n",
        "                    tax_search = re.search(r'(Tax ID|VAT ID)[:\\s]*([A-Za-z0-9-]+)', lines[j])\n",
        "                    if tax_search:\n",
        "                        client_tax_id = tax_search.group(2).strip()\n",
        "                    break\n",
        "            break\n",
        "\n",
        "    invoice_number = invoice_number_match.group(1) if invoice_number_match else ''\n",
        "    iban = iban_match.group(1) if iban_match else ''\n",
        "    date = date_match.group(1).strip() if date_match else ''\n",
        "\n",
        "    montants = re.findall(r'(\\d{1,3}(?:[.,\\s]\\d{3})*(?:[.,]\\d{2}))', text)\n",
        "    montants_candidats = []\n",
        "    for m in montants:\n",
        "        cleaned = m.replace(',', '.').replace(' ', '').replace('$', '')\n",
        "        try:\n",
        "            montants_candidats.append(float(cleaned))\n",
        "        except:\n",
        "            continue\n",
        "    total = max(montants_candidats) if montants_candidats else 0.0\n",
        "    total_match = re.search(r'Total\\s*\\$?\\s*([0-9,]+\\.\\d{2})', text)\n",
        "    if total_match:\n",
        "        total = float(total_match.group(1).replace(',', ''))\n",
        "\n",
        "    conn = mysql.connector.connect(\n",
        "        host=\"localhost\",\n",
        "        user=\"root\",\n",
        "        password=\"ayaDATA2025@\",\n",
        "        database=\"extraction_factures\"\n",
        "    )\n",
        "    cursor = conn.cursor()\n",
        "\n",
        "    cursor.execute(\"\"\"\n",
        "        CREATE TABLE IF NOT EXISTS sellers (\n",
        "            id INT AUTO_INCREMENT PRIMARY KEY,\n",
        "            name VARCHAR(255),\n",
        "            address TEXT,\n",
        "            tax_id VARCHAR(255)\n",
        "        )\n",
        "    \"\"\")\n",
        "\n",
        "    cursor.execute(\"\"\"\n",
        "        CREATE TABLE IF NOT EXISTS clients (\n",
        "            id INT AUTO_INCREMENT PRIMARY KEY,\n",
        "            name VARCHAR(255),\n",
        "            address TEXT,\n",
        "            tax_id VARCHAR(255)\n",
        "        )\n",
        "    \"\"\")\n",
        "\n",
        "    cursor.execute(\"\"\"\n",
        "        CREATE TABLE IF NOT EXISTS invoices (\n",
        "            id INT AUTO_INCREMENT PRIMARY KEY,\n",
        "            invoice_number VARCHAR(255),\n",
        "            date DATE,\n",
        "            iban VARCHAR(255),\n",
        "            total DECIMAL(10, 2),\n",
        "            seller_id INT,\n",
        "            client_id INT,\n",
        "            FOREIGN KEY (seller_id) REFERENCES sellers(id),\n",
        "            FOREIGN KEY (client_id) REFERENCES clients(id)\n",
        "        )\n",
        "    \"\"\")\n",
        "\n",
        "    cursor.execute(\"SELECT id FROM sellers WHERE name=%s AND tax_id=%s\", (seller_name, seller_tax_id))\n",
        "    seller = cursor.fetchone()\n",
        "    if seller:\n",
        "        seller_id = seller[0]\n",
        "    else:\n",
        "        cursor.execute(\"INSERT INTO sellers (name, address, tax_id) VALUES (%s, %s, %s)\", (seller_name, seller_address, seller_tax_id))\n",
        "        seller_id = cursor.lastrowid\n",
        "\n",
        "    cursor.execute(\"SELECT id FROM clients WHERE name=%s AND tax_id=%s\", (client_name, client_tax_id))\n",
        "    client = cursor.fetchone()\n",
        "    if client:\n",
        "        client_id = client[0]\n",
        "    else:\n",
        "        cursor.execute(\"INSERT INTO clients (name, address, tax_id) VALUES (%s, %s, %s)\", (client_name, client_address, client_tax_id))\n",
        "        client_id = cursor.lastrowid\n",
        "\n",
        "    cursor.execute(\"INSERT INTO invoices (invoice_number, date, iban, total, seller_id, client_id) VALUES (%s, %s, %s, %s, %s, %s)\",\n",
        "                   (invoice_number, date, iban, total, seller_id, client_id))\n",
        "\n",
        "    conn.commit()\n",
        "    cursor.close()\n",
        "    conn.close()\n",
        "    print(\"Analyse terminée avec succès.\")\n"
      ]
    },
    {
      "cell_type": "code",
      "execution_count": null,
      "id": "93027397",
      "metadata": {
        "id": "93027397"
      },
      "outputs": [],
      "source": [
        "#Choisir un fichier et lancer l'analyse de la facture\n",
        "def choisir_fichier(output_text, status_label, file_label):\n",
        "    filepath = filedialog.askopenfilename()\n",
        "    if filepath:\n",
        "        file_label.config(text=filepath)\n",
        "        try:\n",
        "            analyse_facture(filepath)\n",
        "            output_text.insert(tk.END, f\"Analyse terminée pour : {filepath}\\n\")\n",
        "            status_label.config(text=\"Analyse réussie.\")\n",
        "        except Exception as e:\n",
        "            output_text.insert(tk.END, f\"Erreur : {str(e)}\\n\")\n",
        "            status_label.config(text=\"Erreur lors de l'analyse.\")\n"
      ]
    },
    {
      "cell_type": "code",
      "execution_count": null,
      "id": "d2babe6f",
      "metadata": {
        "id": "d2babe6f",
        "outputId": "b80e6d76-feaf-4365-adc5-072c51ec75dc"
      },
      "outputs": [
        {
          "name": "stdout",
          "output_type": "stream",
          "text": [
            "Analyse terminée avec succès.\n"
          ]
        }
      ],
      "source": [
        "#Interface user\n",
        "root = tk.Tk()\n",
        "root.title(\"Analyse automatique de factures\")\n",
        "root.geometry(\"600x400\")\n",
        "root.resizable(False, False)\n",
        "\n",
        "style = ttk.Style()\n",
        "style.theme_use(\"clam\")\n",
        "\n",
        "title = ttk.Label(root, text=\"Analyseur de Factures\", font=(\"Helvetica\", 16, \"bold\"))\n",
        "title.pack(pady=10)\n",
        "\n",
        "file_label = ttk.Label(root, text=\"Aucun fichier sélectionné\")\n",
        "file_label.pack()\n",
        "\n",
        "output_text = tk.Text(root, height=10, width=70, wrap=\"word\", bg=\"#f0f0f0\")\n",
        "output_text.pack(padx=10, pady=10)\n",
        "\n",
        "btn_choose_file = ttk.Button(root, text=\"Choisir une image\", command=lambda: choisir_fichier(output_text, status_label, file_label))\n",
        "btn_choose_file.pack(pady=5)\n",
        "\n",
        "status_label = ttk.Label(root, text=\"\")\n",
        "status_label.pack(pady=5)\n",
        "\n",
        "root.mainloop()\n"
      ]
    }
  ],
  "metadata": {
    "kernelspec": {
      "display_name": "Python 3",
      "language": "python",
      "name": "python3"
    },
    "language_info": {
      "codemirror_mode": {
        "name": "ipython",
        "version": 3
      },
      "file_extension": ".py",
      "mimetype": "text/x-python",
      "name": "python",
      "nbconvert_exporter": "python",
      "pygments_lexer": "ipython3",
      "version": "3.13.2"
    },
    "colab": {
      "provenance": []
    }
  },
  "nbformat": 4,
  "nbformat_minor": 5
}